{
 "cells": [
  {
   "cell_type": "markdown",
   "metadata": {},
   "source": [
    "# Homewrok Session #2"
   ]
  },
  {
   "cell_type": "markdown",
   "metadata": {},
   "source": [
    "#### *Personal information*"
   ]
  },
  {
   "cell_type": "markdown",
   "metadata": {},
   "source": [
    "**First name**: Ariadna Uxue"
   ]
  },
  {
   "cell_type": "markdown",
   "metadata": {},
   "source": [
    "**Last Name**: Palomino Ylla"
   ]
  },
  {
   "cell_type": "code",
   "execution_count": 3,
   "metadata": {},
   "outputs": [],
   "source": [
    "import sympy as sp\n",
    "import numpy as np\n",
    "import matplotlib.pyplot as plt\n",
    "%matplotlib inline\n",
    "#para que todas las imágenes salgan en el misnmo notebook"
   ]
  },
  {
   "cell_type": "markdown",
   "metadata": {},
   "source": [
    "## Question 1"
   ]
  },
  {
   "cell_type": "markdown",
   "metadata": {},
   "source": [
    "[Oscilador armónico subamortiguado](https://www.notion.so/Oscilador-arm-nico-subamortiguado-18b2d5d946194370b6643a869b3919e9)"
   ]
  },
  {
   "cell_type": "markdown",
   "metadata": {},
   "source": [
    "1.  De la misma manera en que se hizo para el oscilador armónico sobre y críticamente amortiguado, resolver la ecuación diferencial para el caso subamortiguado de manera simbólica (no es necesario mostrar las soluciones) con coeficientes de amortiguamiento y condiciones iniciales\n",
    "\n",
    "    $$\\gamma = 0.1 (2\\omega), 0.5(2\\omega), 0.9(2\\omega) $$"
   ]
  },
  {
   "cell_type": "markdown",
   "metadata": {},
   "source": [
    "$$\n",
    "\\frac{d^2 x}{dt^2} + \\gamma \\dot{x}+ \\omega^2 x = 0 \n",
    "$$"
   ]
  },
  {
   "cell_type": "code",
   "execution_count": 32,
   "metadata": {},
   "outputs": [],
   "source": [
    "w_num = 0.5\n",
    "x0_num = 5\n",
    "x0dot_num = 1\n",
    "t_plot = np.linspace(0, 50, 1000)"
   ]
  },
  {
   "cell_type": "code",
   "execution_count": 33,
   "metadata": {},
   "outputs": [
    {
     "data": {
      "text/latex": [
       "$\\displaystyle \\gamma \\frac{d}{d t} x{\\left(t \\right)} + \\omega^{2} x{\\left(t \\right)} + \\frac{d^{2}}{d t^{2}} x{\\left(t \\right)} = 0$"
      ],
      "text/plain": [
       "Eq(gamma*Derivative(x(t), t) + omega**2*x(t) + Derivative(x(t), (t, 2)), 0)"
      ]
     },
     "execution_count": 33,
     "metadata": {},
     "output_type": "execute_result"
    }
   ],
   "source": [
    "t = sp.symbols('t')\n",
    "g = sp.symbols('gamma')\n",
    "w = sp.symbols('omega')\n",
    "x = sp.Function('x')(t)\n",
    "\n",
    "eq = sp.Eq(sp.diff(x, (t, 2)) + g*sp.diff(x, t) + w**2*x,  0)\n",
    "eq"
   ]
  },
  {
   "cell_type": "code",
   "execution_count": 34,
   "metadata": {},
   "outputs": [],
   "source": [
    "#subamortiguado\n",
    "g_sub1=0.1*2*w\n",
    "g_sub2=0.9*2*w\n",
    "g_sub3=0.5*2*w"
   ]
  },
  {
   "cell_type": "code",
   "execution_count": 35,
   "metadata": {},
   "outputs": [
    {
     "data": {
      "text/latex": [
       "$\\displaystyle x{\\left(t \\right)} = C_{1} e^{\\omega t \\left(-0.1 - 0.99498743710662 i\\right)} + C_{2} e^{\\omega t \\left(-0.1 + 0.99498743710662 i\\right)}$"
      ],
      "text/plain": [
       "Eq(x(t), C1*exp(omega*t*(-0.1 - 0.99498743710662*I)) + C2*exp(omega*t*(-0.1 + 0.99498743710662*I)))"
      ]
     },
     "execution_count": 35,
     "metadata": {},
     "output_type": "execute_result"
    }
   ],
   "source": [
    "#ecuacion sobreamortiguda 1\n",
    "eq_sub1 = eq.subs(g, g_sub1)\n",
    "sol_sub1 = sp.dsolve(eq_sub1, x)\n",
    "sol_sub1"
   ]
  },
  {
   "cell_type": "code",
   "execution_count": 36,
   "metadata": {},
   "outputs": [
    {
     "data": {
      "text/latex": [
       "$\\displaystyle x{\\left(t \\right)} = C_{1} e^{\\omega t \\left(-0.9 - 0.435889894354067 i\\right)} + C_{2} e^{\\omega t \\left(-0.9 + 0.435889894354067 i\\right)}$"
      ],
      "text/plain": [
       "Eq(x(t), C1*exp(omega*t*(-0.9 - 0.435889894354067*I)) + C2*exp(omega*t*(-0.9 + 0.435889894354067*I)))"
      ]
     },
     "execution_count": 36,
     "metadata": {},
     "output_type": "execute_result"
    }
   ],
   "source": [
    "#ecuacion sobreamortiguda 2\n",
    "eq_sub2 = eq.subs(g, g_sub2)\n",
    "sol_sub2 = sp.dsolve(eq_sub2, x)\n",
    "sol_sub2"
   ]
  },
  {
   "cell_type": "code",
   "execution_count": 37,
   "metadata": {},
   "outputs": [
    {
     "data": {
      "text/latex": [
       "$\\displaystyle x{\\left(t \\right)} = C_{1} e^{\\omega t \\left(-0.5 - 0.866025403784439 i\\right)} + C_{2} e^{\\omega t \\left(-0.5 + 0.866025403784439 i\\right)}$"
      ],
      "text/plain": [
       "Eq(x(t), C1*exp(omega*t*(-0.5 - 0.866025403784439*I)) + C2*exp(omega*t*(-0.5 + 0.866025403784439*I)))"
      ]
     },
     "execution_count": 37,
     "metadata": {},
     "output_type": "execute_result"
    }
   ],
   "source": [
    "#ecuacion sobreamortiguda 2\n",
    "eq_sub3= eq.subs(g, g_sub3)\n",
    "sol_sub3= sp.dsolve(eq_sub3, x)\n",
    "sol_sub3"
   ]
  },
  {
   "cell_type": "code",
   "execution_count": 38,
   "metadata": {},
   "outputs": [],
   "source": [
    "#condiciones iniciales\n",
    "x0 = sp.symbols('x_0')\n",
    "x0dot = sp.symbols('\\dot{x_0}')\n",
    "Ics = {x.subs(t, 0): x0, sp.diff(x, t).subs(t, 0): x0dot}"
   ]
  },
  {
   "cell_type": "code",
   "execution_count": 39,
   "metadata": {},
   "outputs": [
    {
     "data": {
      "text/latex": [
       "$\\displaystyle x{\\left(t \\right)} = \\left(\\frac{0.502518907629606 i \\dot{x_0}}{\\omega} + 0.5 x_{0} + 0.0502518907629606 i x_{0}\\right) e^{\\omega t \\left(-0.1 - 0.99498743710662 i\\right)} - \\frac{1.00503781525921 \\cdot 10^{-14} i \\left(50000000000000.0 \\dot{x_0} + \\omega x_{0} \\left(5000000000000.0 + 49749371855331.0 i\\right)\\right) e^{\\omega t \\left(-0.1 + 0.99498743710662 i\\right)}}{\\omega}$"
      ],
      "text/plain": [
       "Eq(x(t), (0.502518907629606*I*\\dot{x_0}/omega + 0.5*x_0 + 0.0502518907629606*I*x_0)*exp(omega*t*(-0.1 - 0.99498743710662*I)) - 1.00503781525921e-14*I*(50000000000000.0*\\dot{x_0} + omega*x_0*(5000000000000.0 + 49749371855331.0*I))*exp(omega*t*(-0.1 + 0.99498743710662*I))/omega)"
      ]
     },
     "execution_count": 39,
     "metadata": {},
     "output_type": "execute_result"
    }
   ],
   "source": [
    "sol_sub1 = sp.dsolve(eq_sub1, x, ics = Ics)\n",
    "sol_sub1"
   ]
  },
  {
   "cell_type": "code",
   "execution_count": 40,
   "metadata": {},
   "outputs": [
    {
     "data": {
      "text/latex": [
       "$\\displaystyle x{\\left(t \\right)} = \\left(\\frac{1.14707866935281 i \\dot{x_0}}{\\omega} + 0.5 x_{0} + 1.03237080241753 i x_{0}\\right) e^{\\omega t \\left(-0.9 - 0.435889894354067 i\\right)} - \\frac{1.14707866935281 \\cdot 10^{-15} i \\left(1.0 \\cdot 10^{15} \\dot{x_0} + \\omega x_{0} \\left(900000000000000.0 + 435889894354067.0 i\\right)\\right) e^{\\omega t \\left(-0.9 + 0.435889894354067 i\\right)}}{\\omega}$"
      ],
      "text/plain": [
       "Eq(x(t), (1.14707866935281*I*\\dot{x_0}/omega + 0.5*x_0 + 1.03237080241753*I*x_0)*exp(omega*t*(-0.9 - 0.435889894354067*I)) - 1.14707866935281e-15*I*(1.0e+15*\\dot{x_0} + omega*x_0*(900000000000000.0 + 435889894354067.0*I))*exp(omega*t*(-0.9 + 0.435889894354067*I))/omega)"
      ]
     },
     "execution_count": 40,
     "metadata": {},
     "output_type": "execute_result"
    }
   ],
   "source": [
    "sol_sub2 = sp.dsolve(eq_sub2, x, ics = Ics)\n",
    "sol_sub2"
   ]
  },
  {
   "cell_type": "code",
   "execution_count": 41,
   "metadata": {},
   "outputs": [
    {
     "data": {
      "text/latex": [
       "$\\displaystyle x{\\left(t \\right)} = \\left(\\frac{0.577350269189626 i \\dot{x_0}}{\\omega} + 0.5 x_{0} + 0.288675134594813 i x_{0}\\right) e^{\\omega t \\left(-0.5 - 0.866025403784439 i\\right)} - \\frac{5.77350269189626 \\cdot 10^{-16} i \\left(1.0 \\cdot 10^{15} \\dot{x_0} + \\omega x_{0} \\left(500000000000000.0 + 866025403784439.0 i\\right)\\right) e^{\\omega t \\left(-0.5 + 0.866025403784439 i\\right)}}{\\omega}$"
      ],
      "text/plain": [
       "Eq(x(t), (0.577350269189626*I*\\dot{x_0}/omega + 0.5*x_0 + 0.288675134594813*I*x_0)*exp(omega*t*(-0.5 - 0.866025403784439*I)) - 5.77350269189626e-16*I*(1.0e+15*\\dot{x_0} + omega*x_0*(500000000000000.0 + 866025403784439.0*I))*exp(omega*t*(-0.5 + 0.866025403784439*I))/omega)"
      ]
     },
     "execution_count": 41,
     "metadata": {},
     "output_type": "execute_result"
    }
   ],
   "source": [
    "sol_sub3 = sp.dsolve(eq_sub3, x, ics = Ics)\n",
    "sol_sub3"
   ]
  },
  {
   "cell_type": "code",
   "execution_count": 42,
   "metadata": {},
   "outputs": [],
   "source": [
    "x_sub_num1 = sp.lambdify(t, sol_sub1.subs([(w, w_num), (x0, x0_num), (x0dot, x0dot_num)]).rhs, 'numpy')\n",
    "x_sub_plot1 = x_sub_num1(t_plot)"
   ]
  },
  {
   "cell_type": "code",
   "execution_count": 43,
   "metadata": {},
   "outputs": [],
   "source": [
    "x_sub_num2 = sp.lambdify(t, sol_sub2.subs([(w, w_num), (x0, x0_num), (x0dot, x0dot_num)]).rhs, 'numpy')\n",
    "x_sub_plot2 = x_sub_num2(t_plot)"
   ]
  },
  {
   "cell_type": "code",
   "execution_count": 44,
   "metadata": {},
   "outputs": [],
   "source": [
    "x_sub_num3 = sp.lambdify(t, sol_sub3.subs([(w, w_num), (x0, x0_num), (x0dot, x0dot_num)]).rhs, 'numpy')\n",
    "x_sub_plot3 = x_sub_num3(t_plot)"
   ]
  },
  {
   "cell_type": "markdown",
   "metadata": {},
   "source": [
    "2. Graficar las soluciones obtenidas en 1 en una misma gráfica (los valores de la frecuencia y las condiciones iniciales quedan a elección propia; elegir valores razonables) y añadir una leyenda (las soluciones que se obtienen en 1 son complejas, sin embargo, no es necesario preocuparse por este detalle puesto que `matplotlib` solo toma la parte real al momento de graficar.)"
   ]
  },
  {
   "cell_type": "code",
   "execution_count": 51,
   "metadata": {},
   "outputs": [
    {
     "name": "stderr",
     "output_type": "stream",
     "text": [
      "C:\\Users\\Ariadna\\Anaconda3\\lib\\site-packages\\numpy\\core\\_asarray.py:85: ComplexWarning: Casting complex values to real discards the imaginary part\n",
      "  return array(a, dtype, copy=False, order=order)\n"
     ]
    },
    {
     "data": {
      "text/plain": [
       "<matplotlib.legend.Legend at 0x263b0140da0>"
      ]
     },
     "execution_count": 51,
     "metadata": {},
     "output_type": "execute_result"
    },
    {
     "data": {
      "image/png": "[encoded data removed]",
      "text/plain": [
       "<Figure size 1440x720 with 1 Axes>"
      ]
     },
     "metadata": {},
     "output_type": "display_data"
    }
   ],
   "source": [
    "plt.figure(figsize=(20,10))\n",
    "plt.plot(t_plot, x_sub_plot1,t_plot, x_sub_plot2,t_plot, x_sub_plot3)\n",
    "plt.legend(['γ=0.1(2ω)','γ=0.5(2ω)','γ=0.9(2ω)'],prop={'size': 20})"
   ]
  },
  {
   "cell_type": "markdown",
   "metadata": {},
   "source": [
    "3. A partir de la gráfica hecha en 2, hacer un breve análisis de como influye el coeficiente de amortiguamiento en el movimiento de la partícula."
   ]
  },
  {
   "cell_type": "markdown",
   "metadata": {},
   "source": [
    "- Conforme el coeficiente de amortiguamiento el cuerpo aumenta, la amplitud de la oscilación disminuye más rápido en el tiempo. Algo muy amortiguado no oscila sino que regresa a su posicion de equilibrio tras el desplazamiento inicial."
   ]
  },
  {
   "cell_type": "markdown",
   "metadata": {},
   "source": [
    "## Question 2"
   ]
  },
  {
   "cell_type": "markdown",
   "metadata": {},
   "source": [
    "[Dos péndulos acoplados](https://www.notion.so/Dos-p-ndulos-acoplados-0e761b506494488899b3bfdbad1d5d78)"
   ]
  },
  {
   "cell_type": "markdown",
   "metadata": {},
   "source": [
    "Consideremos un sistema de dos péndulos acoplados por un resorte como se ve en la figura, con sus respectivas ecuaciones de movimiento. "
   ]
  },
  {
   "cell_type": "markdown",
   "metadata": {},
   "source": [
    "Si bien es posible resolver estas ecuaciones analíticamente, para hacerlo usando `sympy` , convertiremos este sistema de dos ecuaciones diferenciales de segundo orden en un sistema de **cuatro** **ecuaciones diferenciales de** **primer orden**"
   ]
  },
  {
   "cell_type": "code",
   "execution_count": 67,
   "metadata": {},
   "outputs": [],
   "source": [
    "x0_n =4.\n",
    "x1_n =4.\n",
    "u_n = 6.\n",
    "v_n = 8.\n",
    "m_num = 1.\n",
    "g_num = 9.8\n",
    "l_num = 5.\n",
    "k_num = 3.\n",
    "t_plot = np.linspace(0, 50, 1000)"
   ]
  },
  {
   "cell_type": "code",
   "execution_count": 68,
   "metadata": {},
   "outputs": [],
   "source": [
    "t = sp.symbols('t')\n",
    "x1 = sp.Function('x1')(t)\n",
    "x0 = sp.Function('x0')(t)\n",
    "u = sp.Function('u')(t)\n",
    "v = sp.Function('v')(t)"
   ]
  },
  {
   "cell_type": "code",
   "execution_count": 69,
   "metadata": {},
   "outputs": [],
   "source": [
    "g = sp.symbols('g')\n",
    "m = sp.symbols('m')\n",
    "l = sp.symbols('l')\n",
    "k = sp.symbols('k')"
   ]
  },
  {
   "cell_type": "code",
   "execution_count": 70,
   "metadata": {},
   "outputs": [
    {
     "data": {
      "text/latex": [
       "$\\displaystyle v{\\left(t \\right)} = \\frac{d}{d t} \\operatorname{x_{1}}{\\left(t \\right)}$"
      ],
      "text/plain": [
       "Eq(v(t), Derivative(x1(t), t))"
      ]
     },
     "execution_count": 70,
     "metadata": {},
     "output_type": "execute_result"
    }
   ],
   "source": [
    "eq1 = sp.Eq(v, sp.diff(x1,t))\n",
    "eq1"
   ]
  },
  {
   "cell_type": "code",
   "execution_count": 71,
   "metadata": {},
   "outputs": [
    {
     "data": {
      "text/latex": [
       "$\\displaystyle u{\\left(t \\right)} = \\frac{d}{d t} \\operatorname{x_{0}}{\\left(t \\right)}$"
      ],
      "text/plain": [
       "Eq(u(t), Derivative(x0(t), t))"
      ]
     },
     "execution_count": 71,
     "metadata": {},
     "output_type": "execute_result"
    }
   ],
   "source": [
    "eq2 = sp.Eq(u, sp.diff(x0,t))\n",
    "eq2"
   ]
  },
  {
   "cell_type": "code",
   "execution_count": 72,
   "metadata": {},
   "outputs": [
    {
     "data": {
      "text/latex": [
       "$\\displaystyle m \\frac{d}{d t} v{\\left(t \\right)} = - \\frac{g m \\operatorname{x_{1}}{\\left(t \\right)}}{l} - k \\left(- \\operatorname{x_{0}}{\\left(t \\right)} + \\operatorname{x_{1}}{\\left(t \\right)}\\right)$"
      ],
      "text/plain": [
       "Eq(m*Derivative(v(t), t), -g*m*x1(t)/l - k*(-x0(t) + x1(t)))"
      ]
     },
     "execution_count": 72,
     "metadata": {},
     "output_type": "execute_result"
    }
   ],
   "source": [
    "eq3= sp.Eq(m*sp.diff(v,t),-1*(m*g/l)*x1-1*k*(x1-x0))\n",
    "eq3"
   ]
  },
  {
   "cell_type": "code",
   "execution_count": 73,
   "metadata": {},
   "outputs": [
    {
     "data": {
      "text/latex": [
       "$\\displaystyle m \\frac{d}{d t} u{\\left(t \\right)} = - \\frac{g m \\operatorname{x_{0}}{\\left(t \\right)}}{l} - k \\left(\\operatorname{x_{0}}{\\left(t \\right)} - \\operatorname{x_{1}}{\\left(t \\right)}\\right)$"
      ],
      "text/plain": [
       "Eq(m*Derivative(u(t), t), -g*m*x0(t)/l - k*(x0(t) - x1(t)))"
      ]
     },
     "execution_count": 73,
     "metadata": {},
     "output_type": "execute_result"
    }
   ],
   "source": [
    "eq4= sp.Eq(m*sp.diff(u,t),-1*(m*g/l)*x0-1*k*(x0-x1))\n",
    "eq4"
   ]
  },
  {
   "cell_type": "code",
   "execution_count": 74,
   "metadata": {},
   "outputs": [],
   "source": [
    "eqs=[eq1,eq2,eq3,eq4]"
   ]
  },
  {
   "cell_type": "code",
   "execution_count": 75,
   "metadata": {},
   "outputs": [],
   "source": [
    "#condiciones iniciales\n",
    "x0_0 = sp.symbols('x0^0')\n",
    "x1_0 = sp.symbols('x1^0')\n",
    "u_0 = sp.symbols('u_0')\n",
    "v_0 = sp.symbols('v_0')\n",
    "Ics2 = {x1.subs(t, 0): x1_0, x0.subs(t, 0): x0_0, u.subs(t, 0): u_0, v.subs(t, 0): v_0}"
   ]
  },
  {
   "cell_type": "code",
   "execution_count": 76,
   "metadata": {},
   "outputs": [],
   "source": [
    "sol_sist = sp.dsolve(eqs, [x1, x0, u, v], ics = Ics2)\n",
    "x1_sol, x0_sol, u_sol, v_sol = sol_sist"
   ]
  },
  {
   "cell_type": "code",
   "execution_count": 77,
   "metadata": {},
   "outputs": [
    {
     "data": {
      "text/latex": [
       "$\\displaystyle \\operatorname{x_{1}}{\\left(t \\right)} = \\frac{\\left(\\frac{u_{0}}{4} - \\frac{v_{0}}{4} - \\frac{x^{0}_{0} \\sqrt{\\frac{g m + 2 k l}{l}}}{4} + \\frac{x^{0}_{1} \\sqrt{\\frac{g m + 2 k l}{l}}}{4}\\right) e^{t \\sqrt{\\frac{g m}{l} + 2 k}}}{\\sqrt{\\frac{g m}{l} + 2 k}} - \\frac{\\left(\\frac{u_{0}}{4} - \\frac{v_{0}}{4} + \\frac{x^{0}_{0} \\sqrt{\\frac{g m + 2 k l}{l}}}{4} - \\frac{x^{0}_{1} \\sqrt{\\frac{g m + 2 k l}{l}}}{4}\\right) e^{- t \\sqrt{\\frac{g m}{l} + 2 k}}}{\\sqrt{\\frac{g m}{l} + 2 k}} - \\frac{l \\sqrt{\\frac{g m}{l}} \\left(\\frac{u_{0}}{4} + \\frac{v_{0}}{4} - \\frac{x^{0}_{0} \\sqrt{\\frac{g m}{l}}}{4} - \\frac{x^{0}_{1} \\sqrt{\\frac{g m}{l}}}{4}\\right) e^{t \\sqrt{\\frac{g m}{l}}}}{g m} + \\frac{l \\sqrt{\\frac{g m}{l}} \\left(\\frac{u_{0}}{4} + \\frac{v_{0}}{4} + \\frac{x^{0}_{0} \\sqrt{\\frac{g m}{l}}}{4} + \\frac{x^{0}_{1} \\sqrt{\\frac{g m}{l}}}{4}\\right) e^{- t \\sqrt{\\frac{g m}{l}}}}{g m}$"
      ],
      "text/plain": [
       "Eq(x1(t), (u_0/4 - v_0/4 - x0^0*sqrt((g*m + 2*k*l)/l)/4 + x1^0*sqrt((g*m + 2*k*l)/l)/4)*exp(t*sqrt(g*m/l + 2*k))/sqrt(g*m/l + 2*k) - (u_0/4 - v_0/4 + x0^0*sqrt((g*m + 2*k*l)/l)/4 - x1^0*sqrt((g*m + 2*k*l)/l)/4)*exp(-t*sqrt(g*m/l + 2*k))/sqrt(g*m/l + 2*k) - l*sqrt(g*m/l)*(u_0/4 + v_0/4 - x0^0*sqrt(g*m/l)/4 - x1^0*sqrt(g*m/l)/4)*exp(t*sqrt(g*m/l))/(g*m) + l*sqrt(g*m/l)*(u_0/4 + v_0/4 + x0^0*sqrt(g*m/l)/4 + x1^0*sqrt(g*m/l)/4)*exp(-t*sqrt(g*m/l))/(g*m))"
      ]
     },
     "execution_count": 77,
     "metadata": {},
     "output_type": "execute_result"
    }
   ],
   "source": [
    "x1_sol"
   ]
  },
  {
   "cell_type": "code",
   "execution_count": 78,
   "metadata": {},
   "outputs": [
    {
     "data": {
      "text/latex": [
       "$\\displaystyle \\operatorname{x_{0}}{\\left(t \\right)} = - \\frac{\\left(\\frac{u_{0}}{4} - \\frac{v_{0}}{4} - \\frac{x^{0}_{0} \\sqrt{\\frac{g m + 2 k l}{l}}}{4} + \\frac{x^{0}_{1} \\sqrt{\\frac{g m + 2 k l}{l}}}{4}\\right) e^{t \\sqrt{\\frac{g m}{l} + 2 k}}}{\\sqrt{\\frac{g m}{l} + 2 k}} + \\frac{\\left(\\frac{u_{0}}{4} - \\frac{v_{0}}{4} + \\frac{x^{0}_{0} \\sqrt{\\frac{g m + 2 k l}{l}}}{4} - \\frac{x^{0}_{1} \\sqrt{\\frac{g m + 2 k l}{l}}}{4}\\right) e^{- t \\sqrt{\\frac{g m}{l} + 2 k}}}{\\sqrt{\\frac{g m}{l} + 2 k}} - \\frac{\\left(\\frac{u_{0}}{4} + \\frac{v_{0}}{4} - \\frac{x^{0}_{0} \\sqrt{\\frac{g m}{l}}}{4} - \\frac{x^{0}_{1} \\sqrt{\\frac{g m}{l}}}{4}\\right) e^{t \\sqrt{\\frac{g m}{l}}}}{\\sqrt{\\frac{g m}{l}}} + \\frac{\\left(\\frac{u_{0}}{4} + \\frac{v_{0}}{4} + \\frac{x^{0}_{0} \\sqrt{\\frac{g m}{l}}}{4} + \\frac{x^{0}_{1} \\sqrt{\\frac{g m}{l}}}{4}\\right) e^{- t \\sqrt{\\frac{g m}{l}}}}{\\sqrt{\\frac{g m}{l}}}$"
      ],
      "text/plain": [
       "Eq(x0(t), -(u_0/4 - v_0/4 - x0^0*sqrt((g*m + 2*k*l)/l)/4 + x1^0*sqrt((g*m + 2*k*l)/l)/4)*exp(t*sqrt(g*m/l + 2*k))/sqrt(g*m/l + 2*k) + (u_0/4 - v_0/4 + x0^0*sqrt((g*m + 2*k*l)/l)/4 - x1^0*sqrt((g*m + 2*k*l)/l)/4)*exp(-t*sqrt(g*m/l + 2*k))/sqrt(g*m/l + 2*k) - (u_0/4 + v_0/4 - x0^0*sqrt(g*m/l)/4 - x1^0*sqrt(g*m/l)/4)*exp(t*sqrt(g*m/l))/sqrt(g*m/l) + (u_0/4 + v_0/4 + x0^0*sqrt(g*m/l)/4 + x1^0*sqrt(g*m/l)/4)*exp(-t*sqrt(g*m/l))/sqrt(g*m/l))"
      ]
     },
     "execution_count": 78,
     "metadata": {},
     "output_type": "execute_result"
    }
   ],
   "source": [
    "x0_sol"
   ]
  },
  {
   "cell_type": "code",
   "execution_count": 79,
   "metadata": {},
   "outputs": [
    {
     "data": {
      "text/latex": [
       "$\\displaystyle v{\\left(t \\right)} = - \\left(\\frac{u_{0}}{4} - \\frac{v_{0}}{4} - \\frac{x^{0}_{0} \\sqrt{\\frac{g m + 2 k l}{l}}}{4} + \\frac{x^{0}_{1} \\sqrt{\\frac{g m + 2 k l}{l}}}{4}\\right) e^{t \\sqrt{\\frac{g m}{l} + 2 k}} - \\left(\\frac{u_{0}}{4} - \\frac{v_{0}}{4} + \\frac{x^{0}_{0} \\sqrt{\\frac{g m + 2 k l}{l}}}{4} - \\frac{x^{0}_{1} \\sqrt{\\frac{g m + 2 k l}{l}}}{4}\\right) e^{- t \\sqrt{\\frac{g m}{l} + 2 k}} + \\left(\\frac{u_{0}}{4} + \\frac{v_{0}}{4} - \\frac{x^{0}_{0} \\sqrt{\\frac{g m}{l}}}{4} - \\frac{x^{0}_{1} \\sqrt{\\frac{g m}{l}}}{4}\\right) e^{t \\sqrt{\\frac{g m}{l}}} + \\left(\\frac{u_{0}}{4} + \\frac{v_{0}}{4} + \\frac{x^{0}_{0} \\sqrt{\\frac{g m}{l}}}{4} + \\frac{x^{0}_{1} \\sqrt{\\frac{g m}{l}}}{4}\\right) e^{- t \\sqrt{\\frac{g m}{l}}}$"
      ],
      "text/plain": [
       "Eq(v(t), -(u_0/4 - v_0/4 - x0^0*sqrt((g*m + 2*k*l)/l)/4 + x1^0*sqrt((g*m + 2*k*l)/l)/4)*exp(t*sqrt(g*m/l + 2*k)) - (u_0/4 - v_0/4 + x0^0*sqrt((g*m + 2*k*l)/l)/4 - x1^0*sqrt((g*m + 2*k*l)/l)/4)*exp(-t*sqrt(g*m/l + 2*k)) + (u_0/4 + v_0/4 - x0^0*sqrt(g*m/l)/4 - x1^0*sqrt(g*m/l)/4)*exp(t*sqrt(g*m/l)) + (u_0/4 + v_0/4 + x0^0*sqrt(g*m/l)/4 + x1^0*sqrt(g*m/l)/4)*exp(-t*sqrt(g*m/l)))"
      ]
     },
     "execution_count": 79,
     "metadata": {},
     "output_type": "execute_result"
    }
   ],
   "source": [
    "u_sol"
   ]
  },
  {
   "cell_type": "code",
   "execution_count": 80,
   "metadata": {},
   "outputs": [
    {
     "data": {
      "text/latex": [
       "$\\displaystyle u{\\left(t \\right)} = \\left(\\frac{u_{0}}{4} - \\frac{v_{0}}{4} - \\frac{x^{0}_{0} \\sqrt{\\frac{g m + 2 k l}{l}}}{4} + \\frac{x^{0}_{1} \\sqrt{\\frac{g m + 2 k l}{l}}}{4}\\right) e^{t \\sqrt{\\frac{g m}{l} + 2 k}} + \\left(\\frac{u_{0}}{4} - \\frac{v_{0}}{4} + \\frac{x^{0}_{0} \\sqrt{\\frac{g m + 2 k l}{l}}}{4} - \\frac{x^{0}_{1} \\sqrt{\\frac{g m + 2 k l}{l}}}{4}\\right) e^{- t \\sqrt{\\frac{g m}{l} + 2 k}} + \\left(\\frac{u_{0}}{4} + \\frac{v_{0}}{4} - \\frac{x^{0}_{0} \\sqrt{\\frac{g m}{l}}}{4} - \\frac{x^{0}_{1} \\sqrt{\\frac{g m}{l}}}{4}\\right) e^{t \\sqrt{\\frac{g m}{l}}} + \\left(\\frac{u_{0}}{4} + \\frac{v_{0}}{4} + \\frac{x^{0}_{0} \\sqrt{\\frac{g m}{l}}}{4} + \\frac{x^{0}_{1} \\sqrt{\\frac{g m}{l}}}{4}\\right) e^{- t \\sqrt{\\frac{g m}{l}}}$"
      ],
      "text/plain": [
       "Eq(u(t), (u_0/4 - v_0/4 - x0^0*sqrt((g*m + 2*k*l)/l)/4 + x1^0*sqrt((g*m + 2*k*l)/l)/4)*exp(t*sqrt(g*m/l + 2*k)) + (u_0/4 - v_0/4 + x0^0*sqrt((g*m + 2*k*l)/l)/4 - x1^0*sqrt((g*m + 2*k*l)/l)/4)*exp(-t*sqrt(g*m/l + 2*k)) + (u_0/4 + v_0/4 - x0^0*sqrt(g*m/l)/4 - x1^0*sqrt(g*m/l)/4)*exp(t*sqrt(g*m/l)) + (u_0/4 + v_0/4 + x0^0*sqrt(g*m/l)/4 + x1^0*sqrt(g*m/l)/4)*exp(-t*sqrt(g*m/l)))"
      ]
     },
     "execution_count": 80,
     "metadata": {},
     "output_type": "execute_result"
    }
   ],
   "source": [
    "v_sol"
   ]
  },
  {
   "cell_type": "code",
   "execution_count": 81,
   "metadata": {},
   "outputs": [],
   "source": [
    "x1_sol = x1_sol.subs([(m,m_num),(k,k_num),(l,l_num),(g,g_num)])\n",
    "x0_sol = x0_sol.subs([(m,m_num),(k,k_num),(l,l_num),(g,g_num)])\n",
    "u_sol = u_sol.subs([(m,m_num),(k,k_num),(l,l_num),(g,g_num)])\n",
    "v_sol = v_sol.subs([(m,m_num),(k,k_num),(l,l_num),(g,g_num)])"
   ]
  },
  {
   "cell_type": "code",
   "execution_count": 82,
   "metadata": {},
   "outputs": [],
   "source": [
    "x0_num = sp.lambdify(t, x0_sol.subs([(x0_0, x0_n), (x1_0, x1_n), (u_0,u_n), (v_0,v_n)]).rhs, 'numpy')\n",
    "x1_num = sp.lambdify(t, x1_sol.subs([(x0_0, x0_n), (x1_0, x1_n), (u_0,u_n), (v_0,v_n)]).rhs, 'numpy')\n",
    "v_num = sp.lambdify(t, v_sol.subs([(x0_0, x0_n), (x1_0, x1_n), (u_0,u_n), (v_0,v_n)]).rhs, 'numpy')\n",
    "u_num = sp.lambdify(t, u_sol.subs([(x0_0, x0_n), (x1_0, x1_n), (u_0,u_n), (v_0,v_n)]).rhs, 'numpy')"
   ]
  },
  {
   "cell_type": "code",
   "execution_count": 83,
   "metadata": {},
   "outputs": [],
   "source": [
    "x1_plot = x1_num(t_plot)\n",
    "x0_plot = x0_num(t_plot)\n",
    "u_plot = u_num(t_plot)\n",
    "v_plot = v_num(t_plot)"
   ]
  },
  {
   "cell_type": "code",
   "execution_count": 84,
   "metadata": {},
   "outputs": [
    {
     "data": {
      "text/plain": [
       "<matplotlib.legend.Legend at 0x13858fa0c18>"
      ]
     },
     "execution_count": 84,
     "metadata": {},
     "output_type": "execute_result"
    },
    {
     "data": {
      "image/png": "[encoded data removed]",
      "text/plain": [
       "<Figure size 1440x720 with 1 Axes>"
      ]
     },
     "metadata": {},
     "output_type": "display_data"
    }
   ],
   "source": [
    "plt.figure(figsize=(20,10))\n",
    "plt.plot(t_plot, x1_plot,t_plot, x0_plot,t_plot, u_plot, t_plot, v_plot)\n",
    "plt.legend(['x1(t)','x0(t)','u(t)','v(t)'],prop={'size': 20})"
   ]
  }
 ],
 "metadata": {
  "kernelspec": {
   "display_name": "Python 3",
   "language": "python",
   "name": "python3"
  },
  "language_info": {
   "codemirror_mode": {
    "name": "ipython",
    "version": 3
   },
   "file_extension": ".py",
   "mimetype": "text/x-python",
   "name": "python",
   "nbconvert_exporter": "python",
   "pygments_lexer": "ipython3",
   "version": "3.6.5"
  }
 },
 "nbformat": 4,
 "nbformat_minor": 4
}
